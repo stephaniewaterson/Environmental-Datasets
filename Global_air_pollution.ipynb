{
 "cells": [
  {
   "cell_type": "code",
   "execution_count": null,
   "id": "a032a2a7-f2b3-4ee9-aa83-b8ac7e4005a9",
   "metadata": {},
   "outputs": [],
   "source": [
    " \n",
    "import numpy as np \n",
    "import pandas as pd\n",
    "import seaborn as sns\n",
    "import matplotlib as mp\n",
    "import matplotlib.pyplot as plt \n",
    "from matplotlib.lines import Line2D\n",
    "import matplotlib.patches as mpatches\n",
    "import matplotx\n",
    "\n",
    " \n",
    "from sklearn.impute import KNNImputer \n",
    "from sklearn.linear_model import ElasticNetCV\n",
    "\n",
    "sns.set_style(\"darkgrid\") # nicer graphs\n",
    "!pip install nord\n",
    "!pip install matplotx"
   ]
  },
  {
   "cell_type": "code",
   "execution_count": null,
   "id": "2f891cf5-08a8-43b1-9fea-bcedb9574de4",
   "metadata": {},
   "outputs": [],
   "source": [
    "data = pd.read_csv(\"number-of-deaths-by-risk-factor.csv\")"
   ]
  },
  {
   "cell_type": "code",
   "execution_count": null,
   "id": "747a6e01-7e2d-42f4-a2c8-d3c513b04f06",
   "metadata": {},
   "outputs": [],
   "source": [
    "data.head()"
   ]
  },
  {
   "cell_type": "code",
   "execution_count": null,
   "id": "dff6429e-2043-4919-97c0-27451ec829fd",
   "metadata": {},
   "outputs": [],
   "source": [
    "shape = data.shape\n",
    "print(\"Shape = {}\".format(shape))"
   ]
  },
  {
   "cell_type": "code",
   "execution_count": null,
   "id": "f805b7d6-f532-4bf0-9c9f-3736976f50df",
   "metadata": {},
   "outputs": [],
   "source": [
    "data.sort_values(by=['Year'], ascending=False)"
   ]
  },
  {
   "cell_type": "code",
   "execution_count": null,
   "id": "8081ac87-4660-4d3e-879d-1fd3d6de8f81",
   "metadata": {},
   "outputs": [],
   "source": [
    "PM_data = data[~data[\"Deaths that are from all causes attributed to ambient particulate matter pollution, in both sexes aged all ages\"].isna()] # remove rows with NaN on GDP\n",
    "PM_data = data[PM_data[\"Year\"] > 2018] # actually, the only data we will obtain is 2018 :) \n",
    "PM_data = PM_data.dropna(subset=['Code', 'Deaths that are from all causes attributed to ambient particulate matter pollution, in both sexes aged all ages'])\n",
    "PM_data = PM_data[PM_data[\"Entity\"] != \"World\"] \n",
    "PM_data"
   ]
  },
  {
   "cell_type": "code",
   "execution_count": null,
   "id": "966cbd20-25be-4a4d-a00f-b17aa33662c9",
   "metadata": {},
   "outputs": [],
   "source": [
    "plt.figure(figsize=(13,8))\n",
    "PM_data[\"Deaths that are from all causes attributed to ambient particulate matter pollution, in both sexes aged all ages\"].hist(bins=5)\n",
    "plt.xlabel(\"PM deaths in millions\")\n",
    "plt.ylabel(\"# Countries\")\n",
    "plt.title(\"Histogram of Countries' deaths from PM\")\n",
    "plt.show()"
   ]
  },
  {
   "cell_type": "code",
   "execution_count": null,
   "id": "4be37ace-b610-4a8d-ab23-3c9ca48a6b9a",
   "metadata": {},
   "outputs": [],
   "source": [
    "plt.figure(figsize=(13,8))\n",
    "PM_data[PM_data[\"Deaths that are from all causes attributed to ambient particulate matter pollution, in both sexes aged all ages\"] < 10000][\"Deaths that are from all causes attributed to ambient particulate matter pollution, in both sexes aged all ages\"].hist(bins=5)\n",
    "plt.ylabel(\"# Countries\")\n",
    "plt.title(\"Histogram of Countries' Death from PM\")\n",
    "plt.show()"
   ]
  },
  {
   "cell_type": "code",
   "execution_count": null,
   "id": "885aab62-b1f7-4f86-affc-9c161215e963",
   "metadata": {},
   "outputs": [],
   "source": [
    "PM_deaths = PM_data[\"Deaths that are from all causes attributed to ambient particulate matter pollution, in both sexes aged all ages\"]\n",
    "country = PM_data[\"Entity\"]"
   ]
  },
  {
   "cell_type": "code",
   "execution_count": null,
   "id": "6e569ada-1387-4f92-b85d-8647b621dba9",
   "metadata": {},
   "outputs": [],
   "source": [
    "Population_data = pd.read_csv(\"population-and-demography.csv\")"
   ]
  },
  {
   "cell_type": "code",
   "execution_count": null,
   "id": "530f8708-8100-456a-ae59-b930ed27de3a",
   "metadata": {},
   "outputs": [],
   "source": [
    "Population_data.head()"
   ]
  },
  {
   "cell_type": "code",
   "execution_count": null,
   "id": "4b4237ec-a201-48de-89b1-4ff984307c64",
   "metadata": {},
   "outputs": [],
   "source": [
    "Pop_data = Population_data[~Population_data[\"Population\"].isna()] # remove rows with NaN on GDP\n",
    "Pop_data = Population_data.dropna(subset=['Year', 'Population', 'Country name'])\n",
    "Pop_data = Population_data[Population_data[\"Country name\"] != \"World\"] \n",
    "Pop_data = Population_data[Population_data[\"Year\"] == 2019 ]\n",
    "Pop_data"
   ]
  },
  {
   "cell_type": "code",
   "execution_count": null,
   "id": "1f674225-8a38-4aaf-afff-aeacf4d6ed1d",
   "metadata": {},
   "outputs": [],
   "source": [
    "Pop_data = Pop_data[[ \"Population\", \"Country name\"]]"
   ]
  },
  {
   "cell_type": "code",
   "execution_count": null,
   "id": "baae5294-1249-420d-8e83-d05e09164ea9",
   "metadata": {},
   "outputs": [],
   "source": [
    "Pop_data.rename(columns={\"Country name\" : \"Country\"})"
   ]
  },
  {
   "cell_type": "code",
   "execution_count": null,
   "id": "0c8605e6-9835-44a6-a114-36f70a6f75c3",
   "metadata": {},
   "outputs": [],
   "source": [
    "PM_data.head()"
   ]
  },
  {
   "cell_type": "code",
   "execution_count": null,
   "id": "1a23f455-1abb-433b-9e70-de8239f29967",
   "metadata": {},
   "outputs": [],
   "source": [
    "df = pd.merge(PM_data,Pop_data,how='left',left_on='Entity',right_on='Country name')\n",
    "df"
   ]
  },
  {
   "cell_type": "code",
   "execution_count": null,
   "id": "fdda9a58-3f14-40b5-aaf0-7aeac2db7520",
   "metadata": {},
   "outputs": [],
   "source": [
    "df.rename(columns={\"Entity\": \"Country\", \"Deaths that are from all causes attributed to ambient particulate matter pollution, in both sexes aged all ages\": \"PM_deaths\"})"
   ]
  },
  {
   "cell_type": "code",
   "execution_count": null,
   "id": "d07b1bdd-a112-49ab-9f60-46e9f4aa5401",
   "metadata": {},
   "outputs": [],
   "source": [
    "#conda install basemap"
   ]
  },
  {
   "cell_type": "code",
   "execution_count": null,
   "id": "c6dbecf1-1b3e-4d15-9a4f-0b411a805a3c",
   "metadata": {},
   "outputs": [],
   "source": [
    "%matplotlib inline\n",
    "from mpl_toolkits.basemap import Basemap"
   ]
  },
  {
   "cell_type": "code",
   "execution_count": null,
   "id": "a81f9af8-5d0a-4a9f-af0a-a43ec83b21b2",
   "metadata": {},
   "outputs": [],
   "source": []
  },
  {
   "cell_type": "code",
   "execution_count": null,
   "id": "32246e97-b872-4085-aff2-805b9b7f999a",
   "metadata": {},
   "outputs": [],
   "source": [
    "air_data = pd.read_csv(\"DP_LIVE_20102023114411057.csv\")"
   ]
  },
  {
   "cell_type": "code",
   "execution_count": null,
   "id": "3d2b7fa7-1aac-4f2d-a303-9fd6e0f3b1f6",
   "metadata": {},
   "outputs": [],
   "source": [
    "air_data.head()"
   ]
  },
  {
   "cell_type": "code",
   "execution_count": null,
   "id": "a18746dd-a87a-419c-971a-cdada434a990",
   "metadata": {},
   "outputs": [],
   "source": [
    "air_data = air_data[air_data[\"TIME\"] > 2018]\n",
    "air_data = air_data[air_data[\"MEASURE\"] == 'MICGRCUBM']"
   ]
  },
  {
   "cell_type": "code",
   "execution_count": null,
   "id": "a233cb21-c2bb-47e7-9489-4b5ec376da83",
   "metadata": {},
   "outputs": [],
   "source": [
    "air_data[air_data[\"TIME\"] > 2018]\n",
    "air_data[~air_data[\"Value\"].isna()]\n",
    "air_data.drop(['INDICATOR', 'SUBJECT', 'MEASURE' ,'FREQUENCY' , 'Flag Codes'], axis=1, inplace=True)\n",
    "\n",
    "air_data"
   ]
  },
  {
   "cell_type": "code",
   "execution_count": null,
   "id": "66b336d7-6518-4924-a923-8db401d9a5eb",
   "metadata": {},
   "outputs": [],
   "source": [
    "df2 = pd.merge(df,air_data,how='left',left_on='Code',right_on='LOCATION')\n",
    "df2"
   ]
  },
  {
   "cell_type": "code",
   "execution_count": null,
   "id": "05b50117-e761-4e53-8d8b-70fff281ed65",
   "metadata": {},
   "outputs": [],
   "source": [
    "df3 = df2[~df2[\"Value\"].isna()]\n",
    "df3.drop(['TIME'], axis=1, inplace=True)\n",
    "df3"
   ]
  },
  {
   "cell_type": "code",
   "execution_count": null,
   "id": "11620adf-9d57-4a5a-b34a-7e19158c38df",
   "metadata": {},
   "outputs": [],
   "source": [
    "df4 = pd.DataFrame(df3, columns=[\"Entity\", \"Deaths that are from all causes attributed to ambient particulate matter pollution, in both sexes aged all ages\", \"Value\", \"Population\"])\n",
    "df4.rename(columns={\"Entity\": \"Country\", \"Deaths that are from all causes attributed to ambient particulate matter pollution, in both sexes aged all ages\": \"PM_deaths\"})"
   ]
  },
  {
   "cell_type": "code",
   "execution_count": null,
   "id": "4bcb3052-d915-4cfb-8483-e03619203fb3",
   "metadata": {},
   "outputs": [],
   "source": []
  },
  {
   "cell_type": "code",
   "execution_count": null,
   "id": "4767ebec-67c8-44f5-bc51-4236597f2d35",
   "metadata": {},
   "outputs": [],
   "source": []
  },
  {
   "cell_type": "code",
   "execution_count": null,
   "id": "581a871f-d993-44a4-b5e4-b6beb6a67d63",
   "metadata": {},
   "outputs": [],
   "source": []
  },
  {
   "cell_type": "code",
   "execution_count": null,
   "id": "ecb16467-a314-4873-a646-747a7fce6deb",
   "metadata": {},
   "outputs": [],
   "source": []
  },
  {
   "cell_type": "code",
   "execution_count": null,
   "id": "99eeb651-7ab4-4109-b76b-0bb3557ffead",
   "metadata": {},
   "outputs": [],
   "source": []
  }
 ],
 "metadata": {
  "kernelspec": {
   "display_name": "Python 3 (ipykernel)",
   "language": "python",
   "name": "python3"
  },
  "language_info": {
   "codemirror_mode": {
    "name": "ipython",
    "version": 3
   },
   "file_extension": ".py",
   "mimetype": "text/x-python",
   "name": "python",
   "nbconvert_exporter": "python",
   "pygments_lexer": "ipython3",
   "version": "3.9.12"
  }
 },
 "nbformat": 4,
 "nbformat_minor": 5
}
