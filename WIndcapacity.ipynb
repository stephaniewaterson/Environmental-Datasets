{
 "cells": [
  {
   "cell_type": "code",
   "execution_count": null,
   "id": "e452b6bd-94cd-4fda-a708-501362599388",
   "metadata": {},
   "outputs": [],
   "source": [
    "import geopandas as gpd\n",
    "import geoplot\n",
    "import geoplot.crs as gcrs\n",
    "!pip install geopy\n",
    "!conda install -c anaconda xlrd --yes\n",
    "    \n",
    "import folium\n",
    "from folium.plugins import HeatMap\n",
    "import json\n",
    "import os\n",
    " \n",
    "import numpy as np \n",
    "import pandas as pd\n",
    "import seaborn as sns\n",
    "import matplotlib as mp\n",
    "import matplotlib.pyplot as plt \n",
    "from matplotlib.lines import Line2D\n",
    "import matplotlib.patches as mpatches\n",
    "import matplotx\n",
    "\n",
    " \n",
    "from sklearn.impute import KNNImputer \n",
    "from sklearn.linear_model import ElasticNetCV\n",
    "\n",
    "sns.set_style(\"darkgrid\") # nicer graphs\n",
    "!pip install nord\n",
    "!pip install matplotx\n",
    "\n",
    "!pip install geopy\n",
    "\n",
    "    \n",
    "import folium\n",
    "from folium.plugins import HeatMap\n"
   ]
  },
  {
   "cell_type": "code",
   "execution_count": null,
   "id": "382963f7-b837-497e-9c06-b957dd1fbe68",
   "metadata": {},
   "outputs": [],
   "source": [
    "geodata = gpd.GeoDataFrame.from_features(feature_coll)\n",
    ">>> geodata"
   ]
  },
  {
   "cell_type": "code",
   "execution_count": null,
   "id": "27f0ba3b-b314-4396-8ba7-378dca14a560",
   "metadata": {},
   "outputs": [],
   "source": [
    "geodata.plot()"
   ]
  },
  {
   "cell_type": "code",
   "execution_count": null,
   "id": "c7133963-8239-477d-adbd-ad082abddc72",
   "metadata": {},
   "outputs": [],
   "source": [
    "geodata['coords'] = geodata['geometry'].apply(lambda x: x. representative_point().coords[:])\n",
    "geodata['coords'] = [coords[0] for coords in geodata['coords']]"
   ]
  },
  {
   "cell_type": "code",
   "execution_count": null,
   "id": "3c529ca0-a7cf-4e50-881a-c8a82d506883",
   "metadata": {},
   "outputs": [],
   "source": [
    "ax = geodata.plot(figsize = (15, 12), color = \"lemonchiffon\", edgecolor = \"lightgrey\", linewidth = 0.5)\n",
    "geodata.apply(lambda x: ax.annotate(text=x['name'], xy=x.geometry.centroid. coords[0], ha='center'), axis=1);"
   ]
  },
  {
   "cell_type": "code",
   "execution_count": null,
   "id": "b8a079f0-3dea-4653-ab1d-01610e057f2c",
   "metadata": {
    "tags": []
   },
   "outputs": [],
   "source": [
    "wind = pd.read_csv(\"wind.csv\")\n",
    "wind"
   ]
  },
  {
   "cell_type": "code",
   "execution_count": null,
   "id": "f0bd671b-5380-43d0-95e2-3bec6d88c8c0",
   "metadata": {},
   "outputs": [],
   "source": [
    "merged = pd.merge(wind, geodata, how='left', left_on= \"Country\", right_on=\"name\")\n",
    "merged"
   ]
  },
  {
   "cell_type": "code",
   "execution_count": null,
   "id": "957dcd21-a66b-4491-a6d3-028dae3ac8e8",
   "metadata": {},
   "outputs": [],
   "source": [
    "merged.drop(merged.index[:7], inplace=True)\n",
    "merged"
   ]
  },
  {
   "cell_type": "code",
   "execution_count": null,
   "id": "3ebbc22c-8c77-4f7a-9f2d-5573cbb0fee3",
   "metadata": {},
   "outputs": [],
   "source": [
    "datatypes = merged.dtypes \n",
    "  \n",
    "# Print the data types \n",
    "# of each column \n",
    "datatypes"
   ]
  },
  {
   "cell_type": "code",
   "execution_count": null,
   "id": "291126e4-6909-4bf2-8b69-54d8e85c4247",
   "metadata": {},
   "outputs": [],
   "source": [
    "merged"
   ]
  },
  {
   "cell_type": "code",
   "execution_count": null,
   "id": "0f0af37d-7a02-4a27-8795-31b1313e2c95",
   "metadata": {},
   "outputs": [],
   "source": [
    "merged['coords'] = merged['coords'].astype(str)"
   ]
  },
  {
   "cell_type": "code",
   "execution_count": null,
   "id": "c96268a3-4235-49b5-8650-89f827949668",
   "metadata": {},
   "outputs": [],
   "source": [
    "merged = merged.coords.str.strip(\"()\").str.split(\", \")\n",
    "merged = merged.apply(pd.Series).astype(float).rename(columns={0: \"lng\", 1: \"lat\"})"
   ]
  },
  {
   "cell_type": "code",
   "execution_count": null,
   "id": "50deb60d-1024-4ef0-bf24-bf7cd664c2f6",
   "metadata": {},
   "outputs": [],
   "source": [
    "wind2 = wind.join(merged, lsuffix='_caller', rsuffix='_other')"
   ]
  },
  {
   "cell_type": "code",
   "execution_count": null,
   "id": "736453a7-c106-4a13-9193-bf86f6fec220",
   "metadata": {},
   "outputs": [],
   "source": [
    "wind2.drop(wind2.index[:7], inplace=True)\n",
    "wind2"
   ]
  },
  {
   "cell_type": "code",
   "execution_count": null,
   "id": "d64c0307-31d2-4e86-82c3-57a8707520b6",
   "metadata": {},
   "outputs": [],
   "source": [
    "world_map= folium.Map(tiles=\"cartodbpositron\")\n",
    "marker_cluster = MarkerCluster().add_to(world_map)\n",
    "#for each coordinate, create circlemarker of user percent\n",
    "for i in range(len(wind2)):\n",
    "        lat = wind2.iloc[i]['lat']\n",
    "        long = wind2.iloc[i]['lng']\n",
    "        radius=5\n",
    "        popup_text = \"\"\"Country : {}<br>\n",
    "                    Entries : {}<br>\"\"\"\n",
    "        popup_text = popup_text.format(wind2.iloc[i]['Country'],\n",
    "                                   wind2.iloc[i]['Entries']\n",
    "                                   )\n",
    "\n",
    "\n",
    "        folium.CircleMarker(location = [lat, long], radius=radius, popup= popup_text, fill =True).add_to(marker_cluster)\n",
    "#show the map\n",
    "world_map"
   ]
  },
  {
   "cell_type": "code",
   "execution_count": null,
   "id": "27a80cff-a2a6-4264-a52c-239e74f5a1a7",
   "metadata": {},
   "outputs": [],
   "source": [
    "url = 'https://raw.githubusercontent.com/python-visualization/folium/master/examples/data'\n",
    "country_shapes = f'{url}/world-countries.json'"
   ]
  },
  {
   "cell_type": "code",
   "execution_count": null,
   "id": "19dd865e-6287-4882-b61d-a9312de19c6f",
   "metadata": {},
   "outputs": [],
   "source": [
    "world_map= folium.Map(tiles=\"cartodbpositron\")\n",
    "marker_cluster = MarkerCluster().add_to(world_map)\n",
    "#for each coordinate, create circlemarker of user percent\n",
    "for i in range(len(wind2)):\n",
    "        lat = wind2.iloc[i]['lat']\n",
    "        long = wind2.iloc[i]['lng']\n",
    "        radius=5\n",
    "        popup_text = \"\"\"Country : {}<br>\n",
    "                    Entries : {}<br>\"\"\"\n",
    "        popup_text = popup_text.format(wind2.iloc[i]['Country'],\n",
    "                                   wind2.iloc[i]['Entries']\n",
    "                                   )\n",
    "\n",
    "\n",
    "        folium.CircleMarker(location = [lat, long], radius=radius, popup= popup_text, fill =True).add_to(marker_cluster)\n",
    "#show the map\n",
    "world_map"
   ]
  },
  {
   "cell_type": "code",
   "execution_count": null,
   "id": "c8dc54cc-4245-465c-ae2b-f50cb541020a",
   "metadata": {},
   "outputs": [],
   "source": [
    "wind2['Prices'] = wind2['Prices'].str[1:]\n",
    "\n",
    "wind2"
   ]
  },
  {
   "cell_type": "code",
   "execution_count": null,
   "id": "0658e5ef-5e4c-4a25-ae10-70f22da38015",
   "metadata": {},
   "outputs": [],
   "source": [
    "wind2['Listed capacity'] = wind2['Listed capacity'].apply(lambda x : str(x).replace(\"MW\",\"\"))\n",
    "wind2['Listed capacity'].astype(str).astype(int)"
   ]
  },
  {
   "cell_type": "code",
   "execution_count": null,
   "id": "1b5fb108-d796-477a-985a-42ce03983027",
   "metadata": {},
   "outputs": [],
   "source": [
    "wind2"
   ]
  },
  {
   "cell_type": "code",
   "execution_count": null,
   "id": "3f1f42fa-e36c-4899-9ad1-907cbfe9e5e2",
   "metadata": {},
   "outputs": [],
   "source": [
    "wind2.Prices=wind2.Prices.astype(float)\n",
    "wind2.Entries=wind2.Entries.astype(float)\n",
    "heat_df=wind2[[\"Prices\",\"Entries\"]]\n",
    "heat_data=list(zip(wind2.Prices, wind2.Entries))\n",
    "folium.plugins.HeatMap(heat_data).add_to(world_map)\n",
    "world_map"
   ]
  },
  {
   "cell_type": "code",
   "execution_count": null,
   "id": "02b7f343-3dad-461b-bf9b-dc802a040544",
   "metadata": {},
   "outputs": [],
   "source": [
    "print(wind2.shape)"
   ]
  },
  {
   "cell_type": "code",
   "execution_count": null,
   "id": "983580d4-05f2-4fa4-a359-d4c3f51fd474",
   "metadata": {},
   "outputs": [],
   "source": [
    "datatypes2 = wind2.dtypes \n",
    "  \n",
    "# Print the data types \n",
    "# of each column \n",
    "datatypes2"
   ]
  },
  {
   "cell_type": "code",
   "execution_count": null,
   "id": "4df8a32f-fc67-48f7-8b37-78d0c96d2c58",
   "metadata": {},
   "outputs": [],
   "source": [
    "wind2['Listed capacity'] = pd.to_numeric(wind2['Listed capacity'], errors='coerce')"
   ]
  },
  {
   "cell_type": "code",
   "execution_count": null,
   "id": "dd8619cb-e55e-472e-8fbc-1808d0d303d5",
   "metadata": {},
   "outputs": [],
   "source": [
    "datatypes2 = wind2.dtypes \n",
    "  \n",
    "# Print the data types \n",
    "# of each column \n",
    "datatypes2"
   ]
  },
  {
   "cell_type": "code",
   "execution_count": null,
   "id": "ce45c088-81d0-460f-9cd9-bf26c6ab4a83",
   "metadata": {},
   "outputs": [],
   "source": [
    "world_geo = \"world_countries_geojson.geojson\" # geojson file\n",
    "\n",
    "# create a plain world map\n",
    "world_map = folium.Map(location=[0, 0], zoom_start=2)"
   ]
  },
  {
   "cell_type": "code",
   "execution_count": null,
   "id": "e73f9f07-08af-4de2-979c-68c973a2eee5",
   "metadata": {},
   "outputs": [],
   "source": [
    "world_map.choropleth(\n",
    "    geo_data=world_geo,\n",
    "    data=wind2,\n",
    "    columns=[\"Country\", \"Entries\"],\n",
    "    key_on='feature.properties.name',\n",
    "    fill_color='GnBu',\n",
    "    fill_opacity=1,\n",
    "    line_opacity=0.2,\n",
    "    legend_name=\"Wind Capacity Units\",\n",
    "    smooth_factor=0,\n",
    "    Highlight= True,\n",
    "    line_color = \"#0000\",\n",
    "    name = \"Wind Capacity Units\",\n",
    "    show=False,\n",
    "    overlay=True,\n",
    "    nan_fill_color = \"White\",\n",
    "    \n",
    " )\n",
    "    \n",
    "folium.TileLayer('stamenterrain').add_to(world_map)\n",
    "    \n",
    "ax.legend()\n",
    "ax.set(title='Wind Capacity Units')\n",
    "ax.set_axis_off()\n",
    "\n",
    "# display map\n",
    "world_map"
   ]
  },
  {
   "cell_type": "code",
   "execution_count": null,
   "id": "054fc887-9b24-4cdb-9dc2-f96b24cfce96",
   "metadata": {},
   "outputs": [],
   "source": [
    "world_map2 = folium.Map(location=[0, 0], zoom_start=1.5) world_map2.choropleth( geo_data=world_geo, data=wind2, columns=[\"Country\", \"Listed capacity\"], key_on='feature.properties.name', fill_color='GnBu', fill_opacity=1, line_opacity=0.2, legend_name=\"Wind Capacity (MW)\", smooth_factor=0, Highlight= True, line_color = \"#0000\", name = \"Wind Capacity (MW)\", show=False, overlay=True, nan_fill_color = \"White\",\n",
    "\n",
    ")\n",
    "\n",
    "folium.TileLayer('stamenterrain').add_to(world_map2)\n",
    "\n",
    "display map\n",
    "\n",
    "world_map2"
   ]
  },
  {
   "cell_type": "code",
   "execution_count": null,
   "id": "2bf20919-bc9b-41c9-beae-1b83dfde4ddb",
   "metadata": {},
   "outputs": [],
   "source": [
    "# We create another map called sample_map2.\n",
    "world_map = folium.Map(location=[48, -102], zoom_start=4)\n",
    "\n",
    "# Set up Choropleth map\n",
    "folium.Choropleth(\n",
    "geo_data=world_geo,\n",
    "data=wind2,\n",
    "columns=['Entries',\"Country\"],\n",
    "key_on=\"feature.properties.state\",\n",
    "fill_color='GnBu',\n",
    "fill_opacity=0.7,\n",
    "line_opacity=0.2,\n",
    "legend_name=\"wills\",\n",
    "smooth_factor=0,\n",
    "Highlight= True,\n",
    "line_color = \"#0000\",\n",
    "name = \"Wills\",\n",
    "show=True,\n",
    "overlay=True,\n",
    "nan_fill_color = \"White\"\n",
    ").add_to(world_map)\n",
    "\n",
    "# Add hover functionality.\n",
    "style_function = lambda x: {'fillColor': '#ffffff', \n",
    "                            'color':'#000000', \n",
    "                            'fillOpacity': 0.1, \n",
    "                            'weight': 0.1}\n",
    "highlight_function = lambda x: {'fillColor': '#000000', \n",
    "                                'color':'#000000', \n",
    "                                'fillOpacity': 0.50, \n",
    "                                'weight': 0.1}\n",
    "NIL = folium.features.GeoJson(\n",
    "    data = world_geo,\n",
    "    style_function=style_function, \n",
    "    control=False,\n",
    "    highlight_function=highlight_function, \n",
    "    tooltip=folium.features.GeoJsonTooltip(\n",
    "        fields=['Entries','Price'],\n",
    "        aliases=['Country','Price'],\n",
    "        style=(\"background-color: white; color: #333333; font-family: arial; font-size: 12px; padding: 10px;\") \n",
    "    )\n",
    ")\n",
    "world_map.add_child(NIL)\n",
    "world_map.keep_in_front(NIL)\n",
    "\n",
    "\n",
    "# Here we add cross-hatching (crossing lines) to display the Null values.\n",
    "nans = final_df[final_df[\"Entries\"].isnull()]['Country'].values\n",
    "gdf_nans = final_df[final_df['state'].isin(nans)]\n",
    "sp = StripePattern(angle=45, color='grey', space_color='white')\n",
    "sp.add_to(world_map)\n",
    "folium.features.GeoJson(name=\"Click for Entries NaN values\",data=gdf_nans, style_function=lambda x :{'fillPattern': sp},show=True).add_to(world_map)\n",
    "\n",
    "# Add dark and light mode. \n",
    "folium.TileLayer('cartodbdark_matter',name=\"dark mode\",control=True).add_to(world_map)\n",
    "folium.TileLayer('cartodbpositron',name=\"light mode\",control=True).add_to(world_map)\n",
    "\n",
    "# We add a layer controller. \n",
    "folium.LayerControl(collapsed=False).add_to(world_map)\n",
    "world_map"
   ]
  },
  {
   "cell_type": "code",
   "execution_count": null,
   "id": "15b904bd-b520-4707-8696-82795365bfc0",
   "metadata": {},
   "outputs": [],
   "source": []
  },
  {
   "cell_type": "code",
   "execution_count": null,
   "id": "888049af-4b30-49b8-a24a-3a72d6fbe758",
   "metadata": {},
   "outputs": [],
   "source": []
  },
  {
   "cell_type": "code",
   "execution_count": null,
   "id": "57f8e9e1-57cd-48ae-8ec9-d91aa697088e",
   "metadata": {},
   "outputs": [],
   "source": []
  }
 ],
 "metadata": {
  "kernelspec": {
   "display_name": "Python 3 (ipykernel)",
   "language": "python",
   "name": "python3"
  },
  "language_info": {
   "codemirror_mode": {
    "name": "ipython",
    "version": 3
   },
   "file_extension": ".py",
   "mimetype": "text/x-python",
   "name": "python",
   "nbconvert_exporter": "python",
   "pygments_lexer": "ipython3",
   "version": "3.9.12"
  }
 },
 "nbformat": 4,
 "nbformat_minor": 5
}
